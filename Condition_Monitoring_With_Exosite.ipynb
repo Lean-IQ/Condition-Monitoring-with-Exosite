{
  "nbformat": 4,
  "nbformat_minor": 0,
  "metadata": {
    "colab": {
      "provenance": [],
      "authorship_tag": "ABX9TyMoyi4HJb86NC0IzQ0hNcvy",
      "include_colab_link": true
    },
    "kernelspec": {
      "name": "python3",
      "display_name": "Python 3"
    },
    "language_info": {
      "name": "python"
    }
  },
  "cells": [
    {
      "cell_type": "markdown",
      "metadata": {
        "id": "view-in-github",
        "colab_type": "text"
      },
      "source": [
        "<a href=\"https://colab.research.google.com/github/Lean-IQ/Condition-Monitoring-with-Exosite/blob/main/Condition_Monitoring_With_Exosite.ipynb\" target=\"_parent\"><img src=\"https://colab.research.google.com/assets/colab-badge.svg\" alt=\"Open In Colab\"/></a>"
      ]
    },
    {
      "cell_type": "markdown",
      "source": [
        "#Condition Monitoring with Exosite\n",
        "\n",
        "Building a condition monitoring solution with the Exosite IoT platform involves several key steps, including setting up an edge device, connecting sensor nodes, streaming data, and analyzing the collected data. Here's an introduction to each of these steps:\n",
        "\n",
        "Understanding Condition Monitoring:\n",
        "\n",
        "Condition monitoring involves continuously monitoring the operational parameters of machines or equipment to detect any deviations from normal operating conditions.\n",
        "By monitoring parameters such as vibration, temperature, noise, and other relevant factors, condition monitoring helps in predicting equipment failures, optimizing maintenance schedules, and improving overall equipment effectiveness (OEE).\n",
        "\n",
        "**Introduction to Exosite IoT Platform:**\n",
        "\n",
        "Exosite is an IoT platform that provides tools and services to connect, manage, and analyze IoT devices and data.\n",
        "It offers solutions for device management, data visualization, analytics, and integration with other systems.\n",
        "With Exosite, you can securely connect devices, collect data from sensors, visualize real-time and historical data, and perform advanced analytics to gain insights into your IoT deployments.\n",
        "\n",
        "**Setting Up an Edge Device:**\n",
        "\n",
        "An edge device serves as a gateway between sensors or devices and the cloud platform.\n",
        "It collects data from connected sensors, processes it locally, and then transmits the data to the cloud platform for further analysis.\n",
        "When setting up an edge device for condition monitoring, ensure it has the necessary connectivity options (such as Wi-Fi, Ethernet, or cellular) and computing capabilities to handle data processing tasks.\n",
        "\n",
        "**Connecting Sensor Nodes:**\n",
        "\n",
        "Sensor nodes are devices equipped with sensors that measure various physical parameters.\n",
        "In a condition monitoring application for a pump, sensor nodes can measure parameters such as vibration, temperature, noise, and pressure.\n",
        "These sensor nodes are connected to the edge device, which aggregates data from multiple sensors and forwards it to the cloud platform.\n",
        "\n",
        "**Streaming and Analyzing Data:**\n",
        "\n",
        "Once sensor nodes are connected to the edge device, data is streamed to the Exosite IoT platform for analysis.\n",
        "The platform allows you to visualize real-time data streams, set up alerts for abnormal conditions, and perform advanced analytics to predict equipment failures or detect anomalies.\n",
        "By analyzing data such as noise levels from the pump, you can gain insights into its health, predict maintenance requirements, and optimize operational efficiency.\n",
        "\n",
        "**Application Areas and Benefits:**\n",
        "\n",
        "Condition monitoring solutions built with Exosite IoT platform can be applied across various industries, including manufacturing, energy, utilities, and transportation.\n",
        "Benefits include improved asset reliability, reduced downtime, optimized maintenance schedules, and increased operational efficiency.\n",
        "\n",
        "[Lean-IQ](https://www.lean-iq.com)"
      ],
      "metadata": {
        "id": "_2U3d2a2p3ZE"
      }
    },
    {
      "cell_type": "markdown",
      "source": [
        "#Installing the Edge Client (ExoEdge)\n",
        "This code snippet demonstrates the installation of the ExoEdge package using pip and then imports the package for further exploration. The help(exoedge) command is used to display information about the package, including its contents and available functionalities. This allows users to understand the capabilities of ExoEdge and explore its documentation for setting up and using the edge client for collecting sensor data."
      ],
      "metadata": {
        "id": "Fm9jF2LTsCs9"
      }
    },
    {
      "cell_type": "code",
      "execution_count": null,
      "metadata": {
        "id": "tetAv0a-qpjn"
      },
      "outputs": [],
      "source": [
        "pip install exoedge"
      ]
    },
    {
      "cell_type": "code",
      "source": [
        "import exoedge\n",
        "\n",
        "# Explore the package contents\n",
        "help(exoedge)"
      ],
      "metadata": {
        "id": "udF4QpNhrbeS"
      },
      "execution_count": null,
      "outputs": []
    },
    {
      "cell_type": "markdown",
      "source": [],
      "metadata": {
        "id": "UZhx71c9shPB"
      }
    },
    {
      "cell_type": "markdown",
      "source": [
        "#ExoEdge Channel Data Configuration\n",
        "\n",
        "This script is designed to facilitate the setup of ExoEdge channels, which are used to collect data from various sources, such as sensors or external systems, and transmit it to the Exosite IoT platform. Here's a breakdown of what the code accomplishes:\n",
        "\n",
        "**JSON Configuration:** The script begins with a predefined JSON object (json_data) containing configuration settings for ExoEdge channels. Each channel is defined within the \"channels\" object, with properties such as description, display name, data type, and protocol configuration.\n",
        "\n",
        "**Parsing JSON:** The JSON data is parsed into a Python dictionary (data_dict) using the json.loads() function. This step allows for easy manipulation and access to the configuration settings within the script.\n",
        "\n",
        "**Accessing Configuration Settings:** The script demonstrates how to access specific configuration settings within the data_dict. For example, it prints the description of \"topic0\" and the port number of \"topic1\".\n",
        "\n",
        "**Explanation of Configuration Settings:** Finally, the script provides comments explaining the purpose of each configuration setting. It clarifies that each channel is associated with an MQTT broker subscription and describes the format of the MQTT topic field, including examples of topic configurations."
      ],
      "metadata": {
        "id": "bJ1de0NYs3SP"
      }
    },
    {
      "cell_type": "code",
      "source": [
        "# BASIC EXOEDGE CHANNEL DATA\n",
        "\n",
        "import json\n",
        "\n",
        "# Define the corrected JSON object containing configuration settings\n",
        "json_data = '''\n",
        "{\n",
        "  \"channels\": {\n",
        "    \"topic0\": {\n",
        "      \"description\": \"Subscription to MQTT topic <topic> on gateway.\",\n",
        "      \"display_name\": \"topic0\",\n",
        "      \"properties\": {\n",
        "        \"data_type\": \"STRING\",\n",
        "        \"max\": null,\n",
        "        \"min\": null,\n",
        "        \"precision\": null\n",
        "      },\n",
        "      \"protocol_config\": {\n",
        "        \"app_specific_config\": {\n",
        "          \"ip_address\": \"localhost\",\n",
        "          \"port\": 1883,\n",
        "          \"topic\": \"localhost->device/temp\"\n",
        "        },\n",
        "        \"application\": \"MQTTSubscriber\",\n",
        "        \"report_on_change\": false,\n",
        "        \"report_rate\": 1000,\n",
        "        \"sample_rate\": 1000\n",
        "      }\n",
        "    },\n",
        "    \"topic1\": {\n",
        "      \"description\": \"Subscription to MQTT topic <topic> on gateway.\",\n",
        "      \"display_name\": \"topic1\",\n",
        "      \"properties\": {\n",
        "        \"data_type\": \"STRING\",\n",
        "        \"max\": null,\n",
        "        \"min\": null,\n",
        "        \"precision\": null\n",
        "      },\n",
        "      \"protocol_config\": {\n",
        "        \"app_specific_config\": {\n",
        "          \"ip_address\": \"192.168.254.2\",\n",
        "          \"port\": 1883,\n",
        "          \"topic\": \"192.168.254.2->device/pressure\"\n",
        "        },\n",
        "        \"application\": \"MQTTSubscriber\",\n",
        "        \"report_on_change\": false,\n",
        "        \"report_rate\": 1000,\n",
        "        \"sample_rate\": 1000\n",
        "      }\n",
        "    }\n",
        "  }\n",
        "}\n",
        "'''\n",
        "\n",
        "# Parse the JSON data into a Python dictionary\n",
        "data_dict = json.loads(json_data)\n",
        "\n",
        "# Now you can access and manipulate the contents of the dictionary\n",
        "print(data_dict['channels']['topic0']['description'])  # Output: Subscription to MQTT topic <topic> on gateway.\n",
        "print(data_dict['channels']['topic1']['protocol_config']['port'])  # Output: 1883\n",
        "\n",
        "# Explanation of the comment regarding config_io settings\n",
        "# Each channel is mapped directly to an MQTT broker subscription on the network.\n",
        "# The topic field specifies the MQTT topic to which data should be published.\n",
        "# The format of the topic field is broker_address->topic.\n",
        "# Example configurations:\n",
        "# - localhost->device/temp: Data published to MQTT topic device/temp on localhost broker is routed to this channel.\n",
        "# - 192.168.254.2->device/pressure: Data published to MQTT topic device/pressure on broker 192.168.254.2 is routed to this channel.\n",
        "# The topic field supports the use of MQTT wildcard characters # and + for flexible matching of MQTT topics.\n"
      ],
      "metadata": {
        "id": "rZmQTkdeuKgf"
      },
      "execution_count": null,
      "outputs": []
    },
    {
      "cell_type": "markdown",
      "source": [
        "#MQTT Device Simulator\n",
        "\n",
        "This is a device which simulates data from various environmental sensors and publishes it using MQTT:\n",
        "\n",
        "**Imports and Dependencies:**\n",
        "\n",
        "The script imports necessary modules such as sys, threading, math, json, random, and classes/functions from murano_client.client, paho.mqtt.client, and exoedge.sources.waves.\n",
        "It also imports a function desired_payload_template from make_config_io.\n",
        "\n",
        "**Sensor Data Simulation:**\n",
        "\n",
        "The script defines lambda functions (sim_lambdas) for simulating sensor data for different environmental parameters such as particulate matter (PM2.5 and PM10), ozone, carbon monoxide, sulphurous oxide, nitrous oxide, temperature, relative humidity, and location.\n",
        "These lambda functions generate simulated data based on a sine wave pattern with varying amplitudes.\n",
        "\n",
        "**MQTT Client Configuration:**\n",
        "\n",
        "An MQTT client (c) is created and connected to the local broker at 127.0.0.1 on port 1883.\n",
        "An on_publish callback function is defined to print the result of publishing messages.\n",
        "\n",
        "**Channel Simulation:**\n",
        "\n",
        "The script reads configuration settings from standard input (stdin) and parses them as JSON (config_io).\n",
        "It defines a ChannelSim class that inherits from StoppableThread, representing a simulated sensor data channel.\n",
        "Inside the run method of ChannelSim, simulated sensor data is published to the MQTT broker using the specified channel name and the corresponding simulation lambda function.\n",
        "The simulation runs continuously until the thread is stopped.\n",
        "\n",
        "**Start Channel Simulations:**\n",
        "\n",
        "For each channel defined in the configuration, a ChannelSim thread is created and started with the appropriate channel name and the MQTT client (c).\n",
        "Each thread simulates data transmission for its respective channel.\n",
        "\n",
        "**Interrupt Handling:**\n",
        "\n",
        "The script includes an infinite loop to keep the main thread alive.\n",
        "It waits for KeyboardInterrupt (Ctrl+C) to gracefully stop all running threads before exiting."
      ],
      "metadata": {
        "id": "IBLqN05btI34"
      }
    },
    {
      "cell_type": "code",
      "source": [
        "# DEVICE SIMULATOR\n",
        "\n",
        "# pylint: disable=W0212,C0103,C0301\n",
        "import sys\n",
        "import threading\n",
        "import math\n",
        "import json\n",
        "import random\n",
        "from murano_client.client import StoppableThread\n",
        "from paho.mqtt.client import Client\n",
        "from time import sleep\n",
        "from exoedge.sources import waves\n",
        "from make_config_io import desired_payload_template\n",
        "from exoedge.sources import waves\n",
        "from math import pi\n",
        "\n",
        "sim_lambdas = {\n",
        "    'pm2p5': lambda t: 1000 * waves._wave_sine(pi/t),\n",
        "    'pm10': lambda t: 50 * waves._wave_sine(pi/t),\n",
        "    'ozone': lambda t: 45 * waves._wave_sine(pi/t),\n",
        "    'carbonMonoxide': lambda t: 35 * waves._wave_sine(pi/t),\n",
        "    'sulphurousOxide': lambda t: 1 * waves._wave_sine(pi/t),\n",
        "    'nitrousOxide': lambda t: 1 * waves._wave_sine(pi/t),\n",
        "    'temp': lambda t: 2 * waves._wave_sine(pi/t),\n",
        "    'relativeHumidity': lambda t: 30 * waves._wave_sine(pi/t),\n",
        "    'location': lambda t: json.dumps(\n",
        "        {\"lat\": 43.650883+random.uniform(-0.005, 0.005),\n",
        "         \"lng\": -96.201642+random.uniform(-0.005, 0.005)})\n",
        "}\n",
        "\n",
        "\n",
        "c = Client()\n",
        "c.connect('127.0.0.1', 1883)\n",
        "def on_publish(client, userdata, result):\n",
        "    print(\"gateway_sim: {} published: {}\".format(client.name, result))\n",
        "c.on_publish = on_publish\n",
        "c.loop_start()\n",
        "\n",
        "config_io = json.loads(sys.stdin.read())\n",
        "\n",
        "class ChannelSim(StoppableThread):\n",
        "    def __init__(self, **kwargs):\n",
        "        StoppableThread.__init__(\n",
        "            self,\n",
        "            name=kwargs.get('name')\n",
        "        )\n",
        "        self.client = kwargs.get('client')\n",
        "        setattr(self.client, 'name', kwargs.get('name'))\n",
        "        self.sim_lambda = sim_lambdas[self.name.split('/')[2]]\n",
        "\n",
        "    def run(self):\n",
        "        print(\"running channel simulator: {}\".format(self.name))\n",
        "        nums = range(1, 10)\n",
        "        while not self.is_stopped():\n",
        "            for num in nums:\n",
        "                self.client.publish(\n",
        "                    self.name,\n",
        "                    str(self.sim_lambda(num))\n",
        "                )\n",
        "                if self.is_stopped():\n",
        "                    break\n",
        "                sleep(random.uniform(5.0, 15.0))\n",
        "\n",
        "for chan in config_io['channels'].keys():\n",
        "    print(\"starting channel simulator: {}\".format(chan))\n",
        "    ChannelSim(\n",
        "        name=config_io['channels'][chan]['protocol_config']['app_specific_config']['positionals'][0],\n",
        "        client=c\n",
        "    ).start()\n",
        "\n",
        "while True:\n",
        "    try:\n",
        "        sleep(1.0)\n",
        "    except KeyboardInterrupt:\n",
        "        for thread in threading.enumerate():\n",
        "            if isinstance(thread, StoppableThread):\n",
        "                thread.stop()\n",
        "        exit(0)"
      ],
      "metadata": {
        "id": "21Hfl7rtzBi5"
      },
      "execution_count": null,
      "outputs": []
    },
    {
      "cell_type": "markdown",
      "source": [
        "# Annex\n"
      ],
      "metadata": {
        "id": "IdYqUmj4uIf1"
      }
    },
    {
      "cell_type": "code",
      "source": [
        "## License\n",
        "\n",
        "This project is licensed under the MIT License - see the [LICENSE](LICENSE) file for details. The MIT License is a permissive license that allows you to use, copy, modify, merge, publish, distribute, sublicense, and/or sell copies of the software, with proper attribution and without warranty."
      ],
      "metadata": {
        "id": "MT7UAxVTuKdn"
      },
      "execution_count": null,
      "outputs": []
    },
    {
      "cell_type": "code",
      "source": [
        "# MIT License\n",
        "\n",
        "# Copyright (c) [2024] [Lean-IQ, Ralf Puehler]\n",
        "\n",
        "# Permission is hereby granted, free of charge, to any person obtaining a copy\n",
        "# of this software and associated documentation files (the \"Software\"), to deal\n",
        "# in the Software without restriction, including without limitation the rights\n",
        "# to use, copy, modify, merge, publish, distribute, sublicense, and/or sell\n",
        "# copies of the Software, and to permit persons to whom the Software is\n",
        "# furnished to do so, subject to the following conditions:\n",
        "\n",
        "# The above copyright notice and this permission notice shall be included in all\n",
        "# copies or substantial portions of the Software.\n",
        "\n",
        "# THE SOFTWARE IS PROVIDED \"AS IS\", WITHOUT WARRANTY OF ANY KIND, EXPRESS OR\n",
        "# IMPLIED, INCLUDING BUT NOT LIMITED TO THE WARRANTIES OF MERCHANTABILITY,\n",
        "#FITNESS FOR A PARTICULAR PURPOSE AND NONINFRINGEMENT. IN NO EVENT SHALL THE\n",
        "# AUTHORS OR COPYRIGHT HOLDERS BE LIABLE FOR ANY CLAIM, DAMAGES OR OTHER\n",
        "# LIABILITY, WHETHER IN AN ACTION OF CONTRACT, TORT OR OTHERWISE, ARISING FROM,\n",
        "# OUT OF OR IN CONNECTION WITH THE SOFTWARE OR THE USE OR OTHER DEALINGS IN THE\n",
        "# SOFTWARE."
      ],
      "metadata": {
        "id": "C63tsEdKuSIy"
      },
      "execution_count": null,
      "outputs": []
    }
  ]
}